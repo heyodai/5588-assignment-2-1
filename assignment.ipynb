{
 "cells": [
  {
   "cell_type": "code",
   "execution_count": 8,
   "metadata": {},
   "outputs": [],
   "source": [
    "import pandas as pd\n",
    "from sklearn.model_selection import train_test_split\n",
    "from transformers import RobertaTokenizer, RobertaForSequenceClassification, Trainer, TrainingArguments\n",
    "from textblob import TextBlob\n",
    "from tqdm import tqdm\n",
    "import torch\n",
    "import matplotlib.pyplot as plt"
   ]
  },
  {
   "cell_type": "markdown",
   "metadata": {},
   "source": [
    "### 1. Preprocessing the Data\n",
    "\n",
    "For text classification tasks, the first step is preprocessing the data to convert raw text into a format suitable for the model. This involves tokenizing the text and creating appropriate input tensors."
   ]
  },
  {
   "cell_type": "code",
   "execution_count": 2,
   "metadata": {},
   "outputs": [
    {
     "data": {
      "text/html": [
       "<div>\n",
       "<style scoped>\n",
       "    .dataframe tbody tr th:only-of-type {\n",
       "        vertical-align: middle;\n",
       "    }\n",
       "\n",
       "    .dataframe tbody tr th {\n",
       "        vertical-align: top;\n",
       "    }\n",
       "\n",
       "    .dataframe thead th {\n",
       "        text-align: right;\n",
       "    }\n",
       "</style>\n",
       "<table border=\"1\" class=\"dataframe\">\n",
       "  <thead>\n",
       "    <tr style=\"text-align: right;\">\n",
       "      <th></th>\n",
       "      <th>Unnamed: 0</th>\n",
       "      <th>title</th>\n",
       "      <th>date</th>\n",
       "      <th>stock</th>\n",
       "    </tr>\n",
       "  </thead>\n",
       "  <tbody>\n",
       "    <tr>\n",
       "      <th>0</th>\n",
       "      <td>0.0</td>\n",
       "      <td>Stocks That Hit 52-Week Highs On Friday</td>\n",
       "      <td>2020-06-05 10:30:00-04:00</td>\n",
       "      <td>A</td>\n",
       "    </tr>\n",
       "    <tr>\n",
       "      <th>1</th>\n",
       "      <td>1.0</td>\n",
       "      <td>Stocks That Hit 52-Week Highs On Wednesday</td>\n",
       "      <td>2020-06-03 10:45:00-04:00</td>\n",
       "      <td>A</td>\n",
       "    </tr>\n",
       "    <tr>\n",
       "      <th>2</th>\n",
       "      <td>2.0</td>\n",
       "      <td>71 Biggest Movers From Friday</td>\n",
       "      <td>2020-05-26 04:30:00-04:00</td>\n",
       "      <td>A</td>\n",
       "    </tr>\n",
       "    <tr>\n",
       "      <th>3</th>\n",
       "      <td>3.0</td>\n",
       "      <td>46 Stocks Moving In Friday's Mid-Day Session</td>\n",
       "      <td>2020-05-22 12:45:00-04:00</td>\n",
       "      <td>A</td>\n",
       "    </tr>\n",
       "    <tr>\n",
       "      <th>4</th>\n",
       "      <td>4.0</td>\n",
       "      <td>B of A Securities Maintains Neutral on Agilent...</td>\n",
       "      <td>2020-05-22 11:38:00-04:00</td>\n",
       "      <td>A</td>\n",
       "    </tr>\n",
       "  </tbody>\n",
       "</table>\n",
       "</div>"
      ],
      "text/plain": [
       "   Unnamed: 0                                              title  \\\n",
       "0         0.0            Stocks That Hit 52-Week Highs On Friday   \n",
       "1         1.0         Stocks That Hit 52-Week Highs On Wednesday   \n",
       "2         2.0                      71 Biggest Movers From Friday   \n",
       "3         3.0       46 Stocks Moving In Friday's Mid-Day Session   \n",
       "4         4.0  B of A Securities Maintains Neutral on Agilent...   \n",
       "\n",
       "                        date stock  \n",
       "0  2020-06-05 10:30:00-04:00     A  \n",
       "1  2020-06-03 10:45:00-04:00     A  \n",
       "2  2020-05-26 04:30:00-04:00     A  \n",
       "3  2020-05-22 12:45:00-04:00     A  \n",
       "4  2020-05-22 11:38:00-04:00     A  "
      ]
     },
     "execution_count": 2,
     "metadata": {},
     "output_type": "execute_result"
    }
   ],
   "source": [
    "df = pd.read_csv('dataset/analyst_ratings_processed.csv')\n",
    "df.head()"
   ]
  },
  {
   "cell_type": "code",
   "execution_count": 3,
   "metadata": {},
   "outputs": [
    {
     "data": {
      "text/plain": [
       "(1400469, 4)"
      ]
     },
     "execution_count": 3,
     "metadata": {},
     "output_type": "execute_result"
    }
   ],
   "source": [
    "df.shape"
   ]
  },
  {
   "cell_type": "code",
   "execution_count": 4,
   "metadata": {},
   "outputs": [
    {
     "data": {
      "text/plain": [
       "(14005, 4)"
      ]
     },
     "execution_count": 4,
     "metadata": {},
     "output_type": "execute_result"
    }
   ],
   "source": [
    "# This much data will take about 60 hours to fine-tune on my laptop\n",
    "# Let's trim to 1% of the data\n",
    "df = df.sample(frac=0.01, random_state=42)\n",
    "df.shape"
   ]
  },
  {
   "cell_type": "code",
   "execution_count": 5,
   "metadata": {},
   "outputs": [
    {
     "name": "stderr",
     "output_type": "stream",
     "text": [
      "100%|██████████| 14005/14005 [00:00<00:00, 14885.49it/s]\n"
     ]
    },
    {
     "data": {
      "text/html": [
       "<div>\n",
       "<style scoped>\n",
       "    .dataframe tbody tr th:only-of-type {\n",
       "        vertical-align: middle;\n",
       "    }\n",
       "\n",
       "    .dataframe tbody tr th {\n",
       "        vertical-align: top;\n",
       "    }\n",
       "\n",
       "    .dataframe thead th {\n",
       "        text-align: right;\n",
       "    }\n",
       "</style>\n",
       "<table border=\"1\" class=\"dataframe\">\n",
       "  <thead>\n",
       "    <tr style=\"text-align: right;\">\n",
       "      <th></th>\n",
       "      <th>Unnamed: 0</th>\n",
       "      <th>title</th>\n",
       "      <th>date</th>\n",
       "      <th>stock</th>\n",
       "      <th>sentiment</th>\n",
       "    </tr>\n",
       "  </thead>\n",
       "  <tbody>\n",
       "    <tr>\n",
       "      <th>951347</th>\n",
       "      <td>963395.0</td>\n",
       "      <td>Top Stocks In The Surety &amp; Title Insurance Ind...</td>\n",
       "      <td>2010-04-13 05:00:00-04:00</td>\n",
       "      <td>ORI</td>\n",
       "      <td>Positive</td>\n",
       "    </tr>\n",
       "    <tr>\n",
       "      <th>98223</th>\n",
       "      <td>102011.0</td>\n",
       "      <td>Asterias Provides 6 Mo. Data Readout From Its ...</td>\n",
       "      <td>2018-07-17 07:05:00-04:00</td>\n",
       "      <td>AST</td>\n",
       "      <td>Neutral</td>\n",
       "    </tr>\n",
       "    <tr>\n",
       "      <th>940133</th>\n",
       "      <td>952152.0</td>\n",
       "      <td>ONEOK Partners to Participate in Bakken Day</td>\n",
       "      <td>2010-08-04 16:22:00-04:00</td>\n",
       "      <td>OKS</td>\n",
       "      <td>Neutral</td>\n",
       "    </tr>\n",
       "    <tr>\n",
       "      <th>185334</th>\n",
       "      <td>189463.0</td>\n",
       "      <td>Shares of Broadsoft to Resume Trade at 4:35PM EST</td>\n",
       "      <td>2013-11-04 16:12:00-05:00</td>\n",
       "      <td>BSFT</td>\n",
       "      <td>Neutral</td>\n",
       "    </tr>\n",
       "    <tr>\n",
       "      <th>524898</th>\n",
       "      <td>535387.0</td>\n",
       "      <td>Courier Corp Holder Gamco Reports 6.97%, Up Fr...</td>\n",
       "      <td>2015-03-30 16:20:00-04:00</td>\n",
       "      <td>GBL</td>\n",
       "      <td>Neutral</td>\n",
       "    </tr>\n",
       "  </tbody>\n",
       "</table>\n",
       "</div>"
      ],
      "text/plain": [
       "        Unnamed: 0                                              title  \\\n",
       "951347    963395.0  Top Stocks In The Surety & Title Insurance Ind...   \n",
       "98223     102011.0  Asterias Provides 6 Mo. Data Readout From Its ...   \n",
       "940133    952152.0        ONEOK Partners to Participate in Bakken Day   \n",
       "185334    189463.0  Shares of Broadsoft to Resume Trade at 4:35PM EST   \n",
       "524898    535387.0  Courier Corp Holder Gamco Reports 6.97%, Up Fr...   \n",
       "\n",
       "                             date stock sentiment  \n",
       "951347  2010-04-13 05:00:00-04:00   ORI  Positive  \n",
       "98223   2018-07-17 07:05:00-04:00   AST   Neutral  \n",
       "940133  2010-08-04 16:22:00-04:00   OKS   Neutral  \n",
       "185334  2013-11-04 16:12:00-05:00  BSFT   Neutral  \n",
       "524898  2015-03-30 16:20:00-04:00   GBL   Neutral  "
      ]
     },
     "execution_count": 5,
     "metadata": {},
     "output_type": "execute_result"
    }
   ],
   "source": [
    "# Function to determine sentiment\n",
    "def get_sentiment(title):\n",
    "    analysis = TextBlob(title)\n",
    "    if analysis.sentiment.polarity > 0:\n",
    "        return 'Positive'\n",
    "    elif analysis.sentiment.polarity == 0:\n",
    "        return 'Neutral'\n",
    "    else:\n",
    "        return 'Negative'\n",
    "\n",
    "# Apply the function to our dataset\n",
    "tqdm.pandas()\n",
    "# df['sentiment'] = df['title'].apply(get_sentiment)\n",
    "df['sentiment'] = df['title'].progress_apply(get_sentiment)\n",
    "df.head()"
   ]
  },
  {
   "cell_type": "code",
   "execution_count": 9,
   "metadata": {},
   "outputs": [
    {
     "data": {
      "text/plain": [
       "sentiment\n",
       "Neutral     9406\n",
       "Positive    3310\n",
       "Negative    1289\n",
       "Name: count, dtype: int64"
      ]
     },
     "execution_count": 9,
     "metadata": {},
     "output_type": "execute_result"
    }
   ],
   "source": [
    "# Count how many positive, negative and neutral sentiments we have\n",
    "df['sentiment'].value_counts()"
   ]
  },
  {
   "cell_type": "code",
   "execution_count": 10,
   "metadata": {},
   "outputs": [
    {
     "data": {
      "text/plain": [
       "<Axes: ylabel='count'>"
      ]
     },
     "execution_count": 10,
     "metadata": {},
     "output_type": "execute_result"
    },
    {
     "data": {
      "image/png": "[encoded data removed]",
      "text/plain": [
       "<Figure size 640x480 with 1 Axes>"
      ]
     },
     "metadata": {},
     "output_type": "display_data"
    }
   ],
   "source": [
    "# Plot as a pie chart via matplotlib\n",
    "df['sentiment'].value_counts().plot(kind='pie', autopct='%1.0f%%')"
   ]
  },
  {
   "cell_type": "code",
   "execution_count": 11,
   "metadata": {},
   "outputs": [
    {
     "name": "stderr",
     "output_type": "stream",
     "text": [
      "/Users/odai/5588-assignment-2-1/.venv/lib/python3.11/site-packages/transformers/tokenization_utils_base.py:1601: FutureWarning: `clean_up_tokenization_spaces` was not set. It will be set to `True` by default. This behavior will be depracted in transformers v4.45, and will be then set to `False` by default. For more details check this issue: https://github.com/huggingface/transformers/issues/31884\n",
      "  warnings.warn(\n"
     ]
    }
   ],
   "source": [
    "# Load the pre-trained RoBERTa tokenizer\n",
    "tokenizer = RobertaTokenizer.from_pretrained('roberta-base')"
   ]
  },
  {
   "cell_type": "code",
   "execution_count": 12,
   "metadata": {},
   "outputs": [
    {
     "name": "stderr",
     "output_type": "stream",
     "text": [
      "Tokenizing data: 100%|██████████| 14005/14005 [00:02<00:00, 5955.00it/s]\n"
     ]
    }
   ],
   "source": [
    "# Tokenization function\n",
    "def tokenize_data(text):\n",
    "    return tokenizer(text, padding='max_length', truncation=True, max_length=512, return_tensors='pt')\n",
    "\n",
    "# Tokenize the data\n",
    "encoded_texts = encoded_texts = [tokenize_data(text) for text in tqdm(df['title'], desc=\"Tokenizing data\")]"
   ]
  },
  {
   "cell_type": "markdown",
   "metadata": {},
   "source": [
    "### 2. Fine-Tuning RoBERTa\n",
    "\n",
    "Fine-tuning involves adjusting the weights of a pre-trained model on the specific dataset. "
   ]
  },
  {
   "cell_type": "code",
   "execution_count": 13,
   "metadata": {},
   "outputs": [
    {
     "name": "stderr",
     "output_type": "stream",
     "text": [
      "/var/folders/d4/ggny_vpn0nv4f9ys1m85vyv80000gn/T/ipykernel_56247/591822293.py:3: FutureWarning: Downcasting behavior in `replace` is deprecated and will be removed in a future version. To retain the old behavior, explicitly call `result.infer_objects(copy=False)`. To opt-in to the future behavior, set `pd.set_option('future.no_silent_downcasting', True)`\n",
      "  df['label'] = df['sentiment'].replace(label_dict)\n"
     ]
    },
    {
     "data": {
      "text/html": [
       "<div>\n",
       "<style scoped>\n",
       "    .dataframe tbody tr th:only-of-type {\n",
       "        vertical-align: middle;\n",
       "    }\n",
       "\n",
       "    .dataframe tbody tr th {\n",
       "        vertical-align: top;\n",
       "    }\n",
       "\n",
       "    .dataframe thead th {\n",
       "        text-align: right;\n",
       "    }\n",
       "</style>\n",
       "<table border=\"1\" class=\"dataframe\">\n",
       "  <thead>\n",
       "    <tr style=\"text-align: right;\">\n",
       "      <th></th>\n",
       "      <th>Unnamed: 0</th>\n",
       "      <th>title</th>\n",
       "      <th>date</th>\n",
       "      <th>stock</th>\n",
       "      <th>sentiment</th>\n",
       "      <th>label</th>\n",
       "    </tr>\n",
       "  </thead>\n",
       "  <tbody>\n",
       "    <tr>\n",
       "      <th>951347</th>\n",
       "      <td>963395.0</td>\n",
       "      <td>Top Stocks In The Surety &amp; Title Insurance Ind...</td>\n",
       "      <td>2010-04-13 05:00:00-04:00</td>\n",
       "      <td>ORI</td>\n",
       "      <td>Positive</td>\n",
       "      <td>0</td>\n",
       "    </tr>\n",
       "    <tr>\n",
       "      <th>98223</th>\n",
       "      <td>102011.0</td>\n",
       "      <td>Asterias Provides 6 Mo. Data Readout From Its ...</td>\n",
       "      <td>2018-07-17 07:05:00-04:00</td>\n",
       "      <td>AST</td>\n",
       "      <td>Neutral</td>\n",
       "      <td>1</td>\n",
       "    </tr>\n",
       "    <tr>\n",
       "      <th>940133</th>\n",
       "      <td>952152.0</td>\n",
       "      <td>ONEOK Partners to Participate in Bakken Day</td>\n",
       "      <td>2010-08-04 16:22:00-04:00</td>\n",
       "      <td>OKS</td>\n",
       "      <td>Neutral</td>\n",
       "      <td>1</td>\n",
       "    </tr>\n",
       "    <tr>\n",
       "      <th>185334</th>\n",
       "      <td>189463.0</td>\n",
       "      <td>Shares of Broadsoft to Resume Trade at 4:35PM EST</td>\n",
       "      <td>2013-11-04 16:12:00-05:00</td>\n",
       "      <td>BSFT</td>\n",
       "      <td>Neutral</td>\n",
       "      <td>1</td>\n",
       "    </tr>\n",
       "    <tr>\n",
       "      <th>524898</th>\n",
       "      <td>535387.0</td>\n",
       "      <td>Courier Corp Holder Gamco Reports 6.97%, Up Fr...</td>\n",
       "      <td>2015-03-30 16:20:00-04:00</td>\n",
       "      <td>GBL</td>\n",
       "      <td>Neutral</td>\n",
       "      <td>1</td>\n",
       "    </tr>\n",
       "  </tbody>\n",
       "</table>\n",
       "</div>"
      ],
      "text/plain": [
       "        Unnamed: 0                                              title  \\\n",
       "951347    963395.0  Top Stocks In The Surety & Title Insurance Ind...   \n",
       "98223     102011.0  Asterias Provides 6 Mo. Data Readout From Its ...   \n",
       "940133    952152.0        ONEOK Partners to Participate in Bakken Day   \n",
       "185334    189463.0  Shares of Broadsoft to Resume Trade at 4:35PM EST   \n",
       "524898    535387.0  Courier Corp Holder Gamco Reports 6.97%, Up Fr...   \n",
       "\n",
       "                             date stock sentiment  label  \n",
       "951347  2010-04-13 05:00:00-04:00   ORI  Positive      0  \n",
       "98223   2018-07-17 07:05:00-04:00   AST   Neutral      1  \n",
       "940133  2010-08-04 16:22:00-04:00   OKS   Neutral      1  \n",
       "185334  2013-11-04 16:12:00-05:00  BSFT   Neutral      1  \n",
       "524898  2015-03-30 16:20:00-04:00   GBL   Neutral      1  "
      ]
     },
     "execution_count": 13,
     "metadata": {},
     "output_type": "execute_result"
    }
   ],
   "source": [
    "# Label encoding (convert labels to integers)\n",
    "label_dict = {'Positive': 0, 'Neutral': 1, 'Negative': 2}\n",
    "df['label'] = df['sentiment'].replace(label_dict)\n",
    "df.head()"
   ]
  },
  {
   "cell_type": "code",
   "execution_count": 14,
   "metadata": {},
   "outputs": [],
   "source": [
    "# Prepare dataset for the model\n",
    "class NewsDataset(torch.utils.data.Dataset):\n",
    "    def __init__(self, encodings, labels):\n",
    "        self.encodings = encodings\n",
    "        self.labels = labels\n",
    "\n",
    "    def __getitem__(self, idx):\n",
    "        item = {key: torch.tensor(val[idx]) for key, val in self.encodings.items()}\n",
    "        item['labels'] = torch.tensor(self.labels[idx])\n",
    "        return item\n",
    "\n",
    "    def __len__(self):\n",
    "        return len(self.labels)"
   ]
  },
  {
   "cell_type": "code",
   "execution_count": 15,
   "metadata": {},
   "outputs": [],
   "source": [
    "# Split data into train and validation\n",
    "train_texts, val_texts, train_labels, val_labels = train_test_split(df['title'], df['label'], test_size=0.1)"
   ]
  },
  {
   "cell_type": "code",
   "execution_count": 16,
   "metadata": {},
   "outputs": [],
   "source": [
    "# Tokenize and create datasets\n",
    "train_encodings = tokenizer(train_texts.tolist(), truncation=True, padding=True, max_length=512)\n",
    "val_encodings = tokenizer(val_texts.tolist(), truncation=True, padding=True, max_length=512)\n",
    "train_dataset = NewsDataset(train_encodings, train_labels.tolist())\n",
    "val_dataset = NewsDataset(val_encodings, val_labels.tolist())"
   ]
  },
  {
   "cell_type": "code",
   "execution_count": 17,
   "metadata": {},
   "outputs": [
    {
     "name": "stderr",
     "output_type": "stream",
     "text": [
      "/Users/odai/5588-assignment-2-1/.venv/lib/python3.11/site-packages/transformers/training_args.py:1525: FutureWarning: `evaluation_strategy` is deprecated and will be removed in version 4.46 of 🤗 Transformers. Use `eval_strategy` instead\n",
      "  warnings.warn(\n"
     ]
    }
   ],
   "source": [
    "# Define training arguments\n",
    "training_args = TrainingArguments(\n",
    "    output_dir='./results',          # output directory\n",
    "    num_train_epochs=3,              # number of training epochs\n",
    "    per_device_train_batch_size=8,   # batch size for training\n",
    "    per_device_eval_batch_size=16,   # batch size for evaluation\n",
    "    warmup_steps=500,                # number of warmup steps for learning rate scheduler\n",
    "    weight_decay=0.01,               # strength of weight decay\n",
    "    logging_dir='./logs',            # directory for storing logs\n",
    "    logging_steps=10,\n",
    "    evaluation_strategy=\"epoch\"\n",
    ")"
   ]
  },
  {
   "cell_type": "code",
   "execution_count": 18,
   "metadata": {},
   "outputs": [
    {
     "name": "stderr",
     "output_type": "stream",
     "text": [
      "Some weights of RobertaForSequenceClassification were not initialized from the model checkpoint at roberta-base and are newly initialized: ['classifier.dense.bias', 'classifier.dense.weight', 'classifier.out_proj.bias', 'classifier.out_proj.weight']\n",
      "You should probably TRAIN this model on a down-stream task to be able to use it for predictions and inference.\n"
     ]
    },
    {
     "data": {
      "application/vnd.jupyter.widget-view+json": {
       "model_id": "bc26280a3f8748b68f27e6ce83fa52b4",
       "version_major": 2,
       "version_minor": 0
      },
      "text/plain": [
       "  0%|          | 0/4728 [00:00<?, ?it/s]"
      ]
     },
     "metadata": {},
     "output_type": "display_data"
    },
    {
     "name": "stdout",
     "output_type": "stream",
     "text": [
      "{'loss': 1.0834, 'grad_norm': 5.397334098815918, 'learning_rate': 1.0000000000000002e-06, 'epoch': 0.01}\n",
      "{'loss': 1.049, 'grad_norm': 3.08414363861084, 'learning_rate': 2.0000000000000003e-06, 'epoch': 0.01}\n",
      "{'loss': 1.0644, 'grad_norm': 1.2270454168319702, 'learning_rate': 3e-06, 'epoch': 0.02}\n",
      "{'loss': 1.0096, 'grad_norm': 3.109942674636841, 'learning_rate': 4.000000000000001e-06, 'epoch': 0.03}\n",
      "{'loss': 1.0251, 'grad_norm': 7.771566390991211, 'learning_rate': 5e-06, 'epoch': 0.03}\n",
      "{'loss': 0.95, 'grad_norm': 5.016153335571289, 'learning_rate': 6e-06, 'epoch': 0.04}\n",
      "{'loss': 0.7718, 'grad_norm': 8.170744895935059, 'learning_rate': 7.000000000000001e-06, 'epoch': 0.04}\n",
      "{'loss': 0.6873, 'grad_norm': 5.816216468811035, 'learning_rate': 8.000000000000001e-06, 'epoch': 0.05}\n",
      "{'loss': 0.7274, 'grad_norm': 13.856237411499023, 'learning_rate': 9e-06, 'epoch': 0.06}\n",
      "{'loss': 0.7264, 'grad_norm': 21.665681838989258, 'learning_rate': 1e-05, 'epoch': 0.06}\n",
      "{'loss': 0.8538, 'grad_norm': 6.546056270599365, 'learning_rate': 1.1000000000000001e-05, 'epoch': 0.07}\n",
      "{'loss': 0.7561, 'grad_norm': 8.083762168884277, 'learning_rate': 1.2e-05, 'epoch': 0.08}\n",
      "{'loss': 0.7907, 'grad_norm': 6.741515159606934, 'learning_rate': 1.3000000000000001e-05, 'epoch': 0.08}\n",
      "{'loss': 0.6005, 'grad_norm': 9.595267295837402, 'learning_rate': 1.4000000000000001e-05, 'epoch': 0.09}\n",
      "{'loss': 0.9162, 'grad_norm': 8.094770431518555, 'learning_rate': 1.5e-05, 'epoch': 0.1}\n",
      "{'loss': 0.7536, 'grad_norm': 8.253156661987305, 'learning_rate': 1.6000000000000003e-05, 'epoch': 0.1}\n",
      "{'loss': 0.7796, 'grad_norm': 6.991687297821045, 'learning_rate': 1.7000000000000003e-05, 'epoch': 0.11}\n",
      "{'loss': 0.824, 'grad_norm': 10.49646282196045, 'learning_rate': 1.8e-05, 'epoch': 0.11}\n",
      "{'loss': 0.6929, 'grad_norm': 16.561607360839844, 'learning_rate': 1.9e-05, 'epoch': 0.12}\n",
      "{'loss': 0.6669, 'grad_norm': 9.573637008666992, 'learning_rate': 2e-05, 'epoch': 0.13}\n",
      "{'loss': 0.6887, 'grad_norm': 30.28232765197754, 'learning_rate': 2.1e-05, 'epoch': 0.13}\n",
      "{'loss': 0.7933, 'grad_norm': 9.606401443481445, 'learning_rate': 2.2000000000000003e-05, 'epoch': 0.14}\n",
      "{'loss': 0.622, 'grad_norm': 13.95993423461914, 'learning_rate': 2.3000000000000003e-05, 'epoch': 0.15}\n",
      "{'loss': 0.7768, 'grad_norm': 22.82048797607422, 'learning_rate': 2.4e-05, 'epoch': 0.15}\n",
      "{'loss': 0.726, 'grad_norm': 7.905852794647217, 'learning_rate': 2.5e-05, 'epoch': 0.16}\n",
      "{'loss': 0.639, 'grad_norm': 7.136439323425293, 'learning_rate': 2.6000000000000002e-05, 'epoch': 0.16}\n",
      "{'loss': 0.6871, 'grad_norm': 12.319469451904297, 'learning_rate': 2.7000000000000002e-05, 'epoch': 0.17}\n",
      "{'loss': 0.4503, 'grad_norm': 7.444282531738281, 'learning_rate': 2.8000000000000003e-05, 'epoch': 0.18}\n",
      "{'loss': 0.6724, 'grad_norm': 5.633572101593018, 'learning_rate': 2.9e-05, 'epoch': 0.18}\n",
      "{'loss': 0.8457, 'grad_norm': 3.39681339263916, 'learning_rate': 3e-05, 'epoch': 0.19}\n",
      "{'loss': 0.7332, 'grad_norm': 11.027444839477539, 'learning_rate': 3.1e-05, 'epoch': 0.2}\n",
      "{'loss': 0.5382, 'grad_norm': 16.57218360900879, 'learning_rate': 3.2000000000000005e-05, 'epoch': 0.2}\n",
      "{'loss': 0.6114, 'grad_norm': 43.47028732299805, 'learning_rate': 3.3e-05, 'epoch': 0.21}\n",
      "{'loss': 0.6311, 'grad_norm': 5.17520809173584, 'learning_rate': 3.4000000000000007e-05, 'epoch': 0.22}\n",
      "{'loss': 0.5615, 'grad_norm': 3.759450674057007, 'learning_rate': 3.5e-05, 'epoch': 0.22}\n",
      "{'loss': 0.5902, 'grad_norm': 11.055561065673828, 'learning_rate': 3.6e-05, 'epoch': 0.23}\n",
      "{'loss': 0.6571, 'grad_norm': 27.45839500427246, 'learning_rate': 3.7e-05, 'epoch': 0.23}\n",
      "{'loss': 0.6329, 'grad_norm': 12.200736045837402, 'learning_rate': 3.8e-05, 'epoch': 0.24}\n",
      "{'loss': 0.4827, 'grad_norm': 102.11872863769531, 'learning_rate': 3.9000000000000006e-05, 'epoch': 0.25}\n",
      "{'loss': 0.5525, 'grad_norm': 41.80739212036133, 'learning_rate': 4e-05, 'epoch': 0.25}\n",
      "{'loss': 0.4873, 'grad_norm': 6.615673065185547, 'learning_rate': 4.1e-05, 'epoch': 0.26}\n",
      "{'loss': 0.4466, 'grad_norm': 39.37907791137695, 'learning_rate': 4.2e-05, 'epoch': 0.27}\n",
      "{'loss': 0.7564, 'grad_norm': 12.16918659210205, 'learning_rate': 4.3e-05, 'epoch': 0.27}\n",
      "{'loss': 0.6525, 'grad_norm': 26.324323654174805, 'learning_rate': 4.4000000000000006e-05, 'epoch': 0.28}\n",
      "{'loss': 0.5502, 'grad_norm': 13.858530044555664, 'learning_rate': 4.5e-05, 'epoch': 0.29}\n",
      "{'loss': 0.6699, 'grad_norm': 9.764031410217285, 'learning_rate': 4.600000000000001e-05, 'epoch': 0.29}\n",
      "{'loss': 0.5053, 'grad_norm': 11.682989120483398, 'learning_rate': 4.7e-05, 'epoch': 0.3}\n",
      "{'loss': 0.5466, 'grad_norm': 48.706382751464844, 'learning_rate': 4.8e-05, 'epoch': 0.3}\n",
      "{'loss': 0.5909, 'grad_norm': 26.09767723083496, 'learning_rate': 4.9e-05, 'epoch': 0.31}\n",
      "{'loss': 0.4674, 'grad_norm': 9.069339752197266, 'learning_rate': 5e-05, 'epoch': 0.32}\n",
      "{'loss': 0.4337, 'grad_norm': 27.420785903930664, 'learning_rate': 4.988174077578051e-05, 'epoch': 0.32}\n",
      "{'loss': 0.4385, 'grad_norm': 8.346848487854004, 'learning_rate': 4.976348155156103e-05, 'epoch': 0.33}\n",
      "{'loss': 0.4862, 'grad_norm': 62.83488082885742, 'learning_rate': 4.964522232734153e-05, 'epoch': 0.34}\n",
      "{'loss': 0.4543, 'grad_norm': 6.573060035705566, 'learning_rate': 4.952696310312205e-05, 'epoch': 0.34}\n",
      "{'loss': 0.5088, 'grad_norm': 6.705730438232422, 'learning_rate': 4.940870387890256e-05, 'epoch': 0.35}\n",
      "{'loss': 0.4474, 'grad_norm': 2.326535701751709, 'learning_rate': 4.9290444654683066e-05, 'epoch': 0.36}\n",
      "{'loss': 0.3179, 'grad_norm': 0.4727644622325897, 'learning_rate': 4.917218543046358e-05, 'epoch': 0.36}\n",
      "{'loss': 0.6236, 'grad_norm': 15.353816986083984, 'learning_rate': 4.9053926206244085e-05, 'epoch': 0.37}\n",
      "{'loss': 0.4265, 'grad_norm': 6.444743633270264, 'learning_rate': 4.89356669820246e-05, 'epoch': 0.37}\n",
      "{'loss': 0.4231, 'grad_norm': 83.76325988769531, 'learning_rate': 4.881740775780511e-05, 'epoch': 0.38}\n",
      "{'loss': 0.6364, 'grad_norm': 42.662967681884766, 'learning_rate': 4.869914853358562e-05, 'epoch': 0.39}\n",
      "{'loss': 0.6489, 'grad_norm': 3.0252685546875, 'learning_rate': 4.858088930936614e-05, 'epoch': 0.39}\n",
      "{'loss': 0.4553, 'grad_norm': 8.828017234802246, 'learning_rate': 4.846263008514664e-05, 'epoch': 0.4}\n",
      "{'loss': 0.2635, 'grad_norm': 16.117691040039062, 'learning_rate': 4.8344370860927156e-05, 'epoch': 0.41}\n",
      "{'loss': 0.4342, 'grad_norm': 0.23055897653102875, 'learning_rate': 4.8226111636707666e-05, 'epoch': 0.41}\n",
      "{'loss': 0.5018, 'grad_norm': 15.672369956970215, 'learning_rate': 4.8107852412488175e-05, 'epoch': 0.42}\n",
      "{'loss': 0.5532, 'grad_norm': 55.97987747192383, 'learning_rate': 4.798959318826869e-05, 'epoch': 0.43}\n",
      "{'loss': 0.3663, 'grad_norm': 19.13028335571289, 'learning_rate': 4.78713339640492e-05, 'epoch': 0.43}\n",
      "{'loss': 0.4533, 'grad_norm': 9.366931915283203, 'learning_rate': 4.7753074739829704e-05, 'epoch': 0.44}\n",
      "{'loss': 0.5687, 'grad_norm': 25.9141902923584, 'learning_rate': 4.763481551561022e-05, 'epoch': 0.44}\n",
      "{'loss': 0.5632, 'grad_norm': 71.42778015136719, 'learning_rate': 4.751655629139073e-05, 'epoch': 0.45}\n",
      "{'loss': 0.555, 'grad_norm': 1.0898442268371582, 'learning_rate': 4.7398297067171246e-05, 'epoch': 0.46}\n",
      "{'loss': 0.3377, 'grad_norm': 3.445812702178955, 'learning_rate': 4.7280037842951755e-05, 'epoch': 0.46}\n",
      "{'loss': 0.6295, 'grad_norm': 0.49618908762931824, 'learning_rate': 4.716177861873226e-05, 'epoch': 0.47}\n",
      "{'loss': 0.5827, 'grad_norm': 15.17284107208252, 'learning_rate': 4.7043519394512774e-05, 'epoch': 0.48}\n",
      "{'loss': 0.5259, 'grad_norm': 3.249160051345825, 'learning_rate': 4.6925260170293284e-05, 'epoch': 0.48}\n",
      "{'loss': 0.3952, 'grad_norm': 29.368160247802734, 'learning_rate': 4.68070009460738e-05, 'epoch': 0.49}\n",
      "{'loss': 0.4061, 'grad_norm': 18.49596405029297, 'learning_rate': 4.668874172185431e-05, 'epoch': 0.49}\n",
      "{'loss': 0.4542, 'grad_norm': 9.36707592010498, 'learning_rate': 4.657048249763481e-05, 'epoch': 0.5}\n",
      "{'loss': 0.3534, 'grad_norm': 4.387950897216797, 'learning_rate': 4.645222327341533e-05, 'epoch': 0.51}\n",
      "{'loss': 0.4989, 'grad_norm': 37.21323776245117, 'learning_rate': 4.633396404919584e-05, 'epoch': 0.51}\n",
      "{'loss': 0.5449, 'grad_norm': 1.1709625720977783, 'learning_rate': 4.6215704824976355e-05, 'epoch': 0.52}\n",
      "{'loss': 0.3366, 'grad_norm': 15.854296684265137, 'learning_rate': 4.6097445600756864e-05, 'epoch': 0.53}\n",
      "{'loss': 0.29, 'grad_norm': 26.56674575805664, 'learning_rate': 4.597918637653737e-05, 'epoch': 0.53}\n",
      "{'loss': 0.4335, 'grad_norm': 37.935142517089844, 'learning_rate': 4.586092715231788e-05, 'epoch': 0.54}\n",
      "{'loss': 0.3092, 'grad_norm': 11.181122779846191, 'learning_rate': 4.574266792809839e-05, 'epoch': 0.55}\n",
      "{'loss': 0.3235, 'grad_norm': 23.96865463256836, 'learning_rate': 4.562440870387891e-05, 'epoch': 0.55}\n",
      "{'loss': 0.6774, 'grad_norm': 10.99117374420166, 'learning_rate': 4.550614947965942e-05, 'epoch': 0.56}\n",
      "{'loss': 0.2938, 'grad_norm': 12.585577011108398, 'learning_rate': 4.538789025543992e-05, 'epoch': 0.56}\n",
      "{'loss': 0.5558, 'grad_norm': 3.4534456729888916, 'learning_rate': 4.526963103122044e-05, 'epoch': 0.57}\n",
      "{'loss': 0.3411, 'grad_norm': 9.752881050109863, 'learning_rate': 4.515137180700095e-05, 'epoch': 0.58}\n",
      "{'loss': 0.4793, 'grad_norm': 3.775665521621704, 'learning_rate': 4.5033112582781463e-05, 'epoch': 0.58}\n",
      "{'loss': 0.4054, 'grad_norm': 4.720711708068848, 'learning_rate': 4.491485335856197e-05, 'epoch': 0.59}\n",
      "{'loss': 0.2825, 'grad_norm': 48.463096618652344, 'learning_rate': 4.4796594134342476e-05, 'epoch': 0.6}\n",
      "{'loss': 0.2097, 'grad_norm': 0.3268676698207855, 'learning_rate': 4.467833491012299e-05, 'epoch': 0.6}\n",
      "{'loss': 0.5446, 'grad_norm': 4.425036430358887, 'learning_rate': 4.45600756859035e-05, 'epoch': 0.61}\n",
      "{'loss': 0.2492, 'grad_norm': 33.14439392089844, 'learning_rate': 4.444181646168402e-05, 'epoch': 0.62}\n",
      "{'loss': 0.4409, 'grad_norm': 37.473995208740234, 'learning_rate': 4.432355723746453e-05, 'epoch': 0.62}\n",
      "{'loss': 0.4459, 'grad_norm': 13.254121780395508, 'learning_rate': 4.420529801324503e-05, 'epoch': 0.63}\n",
      "{'loss': 0.5316, 'grad_norm': 23.886585235595703, 'learning_rate': 4.4087038789025546e-05, 'epoch': 0.63}\n",
      "{'loss': 0.4576, 'grad_norm': 18.722122192382812, 'learning_rate': 4.3968779564806056e-05, 'epoch': 0.64}\n",
      "{'loss': 0.2752, 'grad_norm': 18.286643981933594, 'learning_rate': 4.385052034058657e-05, 'epoch': 0.65}\n",
      "{'loss': 0.516, 'grad_norm': 0.26130440831184387, 'learning_rate': 4.373226111636708e-05, 'epoch': 0.65}\n",
      "{'loss': 0.3948, 'grad_norm': 29.17934799194336, 'learning_rate': 4.361400189214759e-05, 'epoch': 0.66}\n",
      "{'loss': 0.4859, 'grad_norm': 11.555213928222656, 'learning_rate': 4.34957426679281e-05, 'epoch': 0.67}\n",
      "{'loss': 0.3506, 'grad_norm': 6.57479190826416, 'learning_rate': 4.337748344370861e-05, 'epoch': 0.67}\n",
      "{'loss': 0.1754, 'grad_norm': 10.312661170959473, 'learning_rate': 4.325922421948912e-05, 'epoch': 0.68}\n",
      "{'loss': 0.3295, 'grad_norm': 45.56867599487305, 'learning_rate': 4.3140964995269636e-05, 'epoch': 0.69}\n",
      "{'loss': 0.8285, 'grad_norm': 0.5402827262878418, 'learning_rate': 4.3022705771050146e-05, 'epoch': 0.69}\n",
      "{'loss': 0.1981, 'grad_norm': 34.929100036621094, 'learning_rate': 4.2904446546830655e-05, 'epoch': 0.7}\n",
      "{'loss': 0.345, 'grad_norm': 0.4994349479675293, 'learning_rate': 4.2786187322611165e-05, 'epoch': 0.7}\n",
      "{'loss': 0.6137, 'grad_norm': 3.5292325019836426, 'learning_rate': 4.2667928098391674e-05, 'epoch': 0.71}\n",
      "{'loss': 0.3517, 'grad_norm': 9.308027267456055, 'learning_rate': 4.254966887417219e-05, 'epoch': 0.72}\n",
      "{'loss': 0.2583, 'grad_norm': 3.7549402713775635, 'learning_rate': 4.24314096499527e-05, 'epoch': 0.72}\n",
      "{'loss': 0.2177, 'grad_norm': 0.3202626407146454, 'learning_rate': 4.231315042573321e-05, 'epoch': 0.73}\n",
      "{'loss': 0.2221, 'grad_norm': 16.700233459472656, 'learning_rate': 4.219489120151372e-05, 'epoch': 0.74}\n",
      "{'loss': 0.5099, 'grad_norm': 0.12599369883537292, 'learning_rate': 4.207663197729423e-05, 'epoch': 0.74}\n",
      "{'loss': 0.482, 'grad_norm': 0.1609540581703186, 'learning_rate': 4.1958372753074745e-05, 'epoch': 0.75}\n",
      "{'loss': 0.5359, 'grad_norm': 8.731793403625488, 'learning_rate': 4.1840113528855254e-05, 'epoch': 0.76}\n",
      "{'loss': 0.3143, 'grad_norm': 3.261216878890991, 'learning_rate': 4.1721854304635764e-05, 'epoch': 0.76}\n",
      "{'loss': 0.1524, 'grad_norm': 7.564735412597656, 'learning_rate': 4.1603595080416274e-05, 'epoch': 0.77}\n",
      "{'loss': 0.6487, 'grad_norm': 100.68870544433594, 'learning_rate': 4.148533585619678e-05, 'epoch': 0.77}\n",
      "{'loss': 0.2781, 'grad_norm': 10.139573097229004, 'learning_rate': 4.13670766319773e-05, 'epoch': 0.78}\n",
      "{'loss': 0.2949, 'grad_norm': 0.1880982369184494, 'learning_rate': 4.124881740775781e-05, 'epoch': 0.79}\n",
      "{'loss': 0.4108, 'grad_norm': 19.507841110229492, 'learning_rate': 4.113055818353832e-05, 'epoch': 0.79}\n",
      "{'loss': 0.3604, 'grad_norm': 30.709476470947266, 'learning_rate': 4.101229895931883e-05, 'epoch': 0.8}\n",
      "{'loss': 0.3361, 'grad_norm': 0.4291178286075592, 'learning_rate': 4.089403973509934e-05, 'epoch': 0.81}\n",
      "{'loss': 0.493, 'grad_norm': 13.903203964233398, 'learning_rate': 4.0775780510879854e-05, 'epoch': 0.81}\n",
      "{'loss': 0.4568, 'grad_norm': 36.1591796875, 'learning_rate': 4.065752128666036e-05, 'epoch': 0.82}\n",
      "{'loss': 0.3417, 'grad_norm': 26.822769165039062, 'learning_rate': 4.053926206244087e-05, 'epoch': 0.82}\n",
      "{'loss': 0.4751, 'grad_norm': 13.856600761413574, 'learning_rate': 4.042100283822138e-05, 'epoch': 0.83}\n",
      "{'loss': 0.2462, 'grad_norm': 0.3198871910572052, 'learning_rate': 4.030274361400189e-05, 'epoch': 0.84}\n",
      "{'loss': 0.4647, 'grad_norm': 4.589536190032959, 'learning_rate': 4.018448438978241e-05, 'epoch': 0.84}\n",
      "{'loss': 0.2513, 'grad_norm': 12.88315486907959, 'learning_rate': 4.006622516556292e-05, 'epoch': 0.85}\n",
      "{'loss': 0.2175, 'grad_norm': 3.0730655193328857, 'learning_rate': 3.994796594134343e-05, 'epoch': 0.86}\n",
      "{'loss': 0.3172, 'grad_norm': 3.063066005706787, 'learning_rate': 3.982970671712394e-05, 'epoch': 0.86}\n",
      "{'loss': 0.2029, 'grad_norm': 3.068147659301758, 'learning_rate': 3.9711447492904446e-05, 'epoch': 0.87}\n",
      "{'loss': 0.2848, 'grad_norm': 3.1011886596679688, 'learning_rate': 3.959318826868496e-05, 'epoch': 0.88}\n",
      "{'loss': 0.3591, 'grad_norm': 36.48939895629883, 'learning_rate': 3.947492904446547e-05, 'epoch': 0.88}\n",
      "{'loss': 0.0742, 'grad_norm': 0.3340272009372711, 'learning_rate': 3.935666982024598e-05, 'epoch': 0.89}\n",
      "{'loss': 0.6061, 'grad_norm': 0.9279311299324036, 'learning_rate': 3.923841059602649e-05, 'epoch': 0.89}\n",
      "{'loss': 0.1371, 'grad_norm': 0.21701233088970184, 'learning_rate': 3.9120151371807e-05, 'epoch': 0.9}\n",
      "{'loss': 0.2875, 'grad_norm': 0.5111187100410461, 'learning_rate': 3.900189214758752e-05, 'epoch': 0.91}\n",
      "{'loss': 0.3576, 'grad_norm': 4.988484859466553, 'learning_rate': 3.8883632923368026e-05, 'epoch': 0.91}\n",
      "{'loss': 0.2624, 'grad_norm': 3.33537220954895, 'learning_rate': 3.8765373699148536e-05, 'epoch': 0.92}\n",
      "{'loss': 0.2567, 'grad_norm': 15.2952299118042, 'learning_rate': 3.8647114474929046e-05, 'epoch': 0.93}\n",
      "{'loss': 0.4334, 'grad_norm': 0.4433501362800598, 'learning_rate': 3.8528855250709555e-05, 'epoch': 0.93}\n",
      "{'loss': 0.3258, 'grad_norm': 0.15089572966098785, 'learning_rate': 3.841059602649007e-05, 'epoch': 0.94}\n",
      "{'loss': 0.4078, 'grad_norm': 3.4319241046905518, 'learning_rate': 3.829233680227058e-05, 'epoch': 0.95}\n",
      "{'loss': 0.1791, 'grad_norm': 1.160524845123291, 'learning_rate': 3.817407757805109e-05, 'epoch': 0.95}\n",
      "{'loss': 0.379, 'grad_norm': 31.9006404876709, 'learning_rate': 3.80558183538316e-05, 'epoch': 0.96}\n",
      "{'loss': 0.2803, 'grad_norm': 0.21276113390922546, 'learning_rate': 3.793755912961211e-05, 'epoch': 0.96}\n",
      "{'loss': 0.1431, 'grad_norm': 0.1707158088684082, 'learning_rate': 3.7819299905392626e-05, 'epoch': 0.97}\n",
      "{'loss': 0.3247, 'grad_norm': 0.1099185198545456, 'learning_rate': 3.7701040681173135e-05, 'epoch': 0.98}\n",
      "{'loss': 0.4539, 'grad_norm': 27.114299774169922, 'learning_rate': 3.7582781456953645e-05, 'epoch': 0.98}\n",
      "{'loss': 0.3082, 'grad_norm': 0.11892740428447723, 'learning_rate': 3.7464522232734154e-05, 'epoch': 0.99}\n",
      "{'loss': 0.5804, 'grad_norm': 0.15043196082115173, 'learning_rate': 3.7346263008514664e-05, 'epoch': 1.0}\n"
     ]
    },
    {
     "data": {
      "application/vnd.jupyter.widget-view+json": {
       "model_id": "be882aa308fa4553811a4b1a0a43e1a3",
       "version_major": 2,
       "version_minor": 0
      },
      "text/plain": [
       "  0%|          | 0/88 [00:00<?, ?it/s]"
      ]
     },
     "metadata": {},
     "output_type": "display_data"
    },
    {
     "name": "stdout",
     "output_type": "stream",
     "text": [
      "{'eval_loss': 0.19840466976165771, 'eval_runtime': 14.4633, 'eval_samples_per_second': 96.866, 'eval_steps_per_second': 6.084, 'epoch': 1.0}\n",
      "{'loss': 0.3217, 'grad_norm': 0.1599254608154297, 'learning_rate': 3.722800378429518e-05, 'epoch': 1.0}\n",
      "{'loss': 0.3047, 'grad_norm': 0.2134741097688675, 'learning_rate': 3.710974456007569e-05, 'epoch': 1.01}\n",
      "{'loss': 0.2711, 'grad_norm': 3.5522491931915283, 'learning_rate': 3.69914853358562e-05, 'epoch': 1.02}\n",
      "{'loss': 0.0895, 'grad_norm': 3.1746857166290283, 'learning_rate': 3.687322611163671e-05, 'epoch': 1.02}\n",
      "{'loss': 0.1839, 'grad_norm': 0.1425173431634903, 'learning_rate': 3.675496688741722e-05, 'epoch': 1.03}\n",
      "{'loss': 0.2856, 'grad_norm': 0.13498064875602722, 'learning_rate': 3.6636707663197735e-05, 'epoch': 1.03}\n",
      "{'loss': 0.3094, 'grad_norm': 6.971884727478027, 'learning_rate': 3.6518448438978244e-05, 'epoch': 1.04}\n",
      "{'loss': 0.1101, 'grad_norm': 4.386616230010986, 'learning_rate': 3.6400189214758754e-05, 'epoch': 1.05}\n",
      "{'loss': 0.4919, 'grad_norm': 6.454414367675781, 'learning_rate': 3.628192999053926e-05, 'epoch': 1.05}\n",
      "{'loss': 0.2432, 'grad_norm': 0.5911946892738342, 'learning_rate': 3.616367076631977e-05, 'epoch': 1.06}\n",
      "{'loss': 0.2679, 'grad_norm': 22.897775650024414, 'learning_rate': 3.604541154210029e-05, 'epoch': 1.07}\n",
      "{'loss': 0.1066, 'grad_norm': 0.32386550307273865, 'learning_rate': 3.59271523178808e-05, 'epoch': 1.07}\n",
      "{'loss': 0.4944, 'grad_norm': 0.4327675998210907, 'learning_rate': 3.580889309366131e-05, 'epoch': 1.08}\n",
      "{'loss': 0.2351, 'grad_norm': 0.1527017056941986, 'learning_rate': 3.569063386944182e-05, 'epoch': 1.09}\n",
      "{'loss': 0.4187, 'grad_norm': 5.664333820343018, 'learning_rate': 3.557237464522233e-05, 'epoch': 1.09}\n",
      "{'loss': 0.4174, 'grad_norm': 4.643398284912109, 'learning_rate': 3.545411542100284e-05, 'epoch': 1.1}\n",
      "{'loss': 0.2177, 'grad_norm': 0.3475768566131592, 'learning_rate': 3.533585619678335e-05, 'epoch': 1.1}\n",
      "{'loss': 0.4734, 'grad_norm': 4.87009334564209, 'learning_rate': 3.521759697256386e-05, 'epoch': 1.11}\n",
      "{'loss': 0.3686, 'grad_norm': 9.84054946899414, 'learning_rate': 3.509933774834437e-05, 'epoch': 1.12}\n",
      "{'loss': 0.2057, 'grad_norm': 0.31675899028778076, 'learning_rate': 3.498107852412488e-05, 'epoch': 1.12}\n",
      "{'loss': 0.1535, 'grad_norm': 13.931575775146484, 'learning_rate': 3.486281929990539e-05, 'epoch': 1.13}\n",
      "{'loss': 0.2371, 'grad_norm': 282.00054931640625, 'learning_rate': 3.474456007568591e-05, 'epoch': 1.14}\n",
      "{'loss': 0.2626, 'grad_norm': 11.27065658569336, 'learning_rate': 3.462630085146642e-05, 'epoch': 1.14}\n",
      "{'loss': 0.2108, 'grad_norm': 0.1493127942085266, 'learning_rate': 3.4508041627246926e-05, 'epoch': 1.15}\n",
      "{'loss': 0.3487, 'grad_norm': 18.842477798461914, 'learning_rate': 3.4389782403027436e-05, 'epoch': 1.15}\n",
      "{'loss': 0.3157, 'grad_norm': 38.788230895996094, 'learning_rate': 3.4271523178807945e-05, 'epoch': 1.16}\n",
      "{'loss': 0.1464, 'grad_norm': 9.967060089111328, 'learning_rate': 3.415326395458846e-05, 'epoch': 1.17}\n",
      "{'loss': 0.5352, 'grad_norm': 27.57292938232422, 'learning_rate': 3.403500473036897e-05, 'epoch': 1.17}\n",
      "{'loss': 0.2593, 'grad_norm': 0.6472312808036804, 'learning_rate': 3.391674550614948e-05, 'epoch': 1.18}\n",
      "{'loss': 0.2131, 'grad_norm': 0.33390289545059204, 'learning_rate': 3.379848628192999e-05, 'epoch': 1.19}\n",
      "{'loss': 0.2147, 'grad_norm': 7.440165996551514, 'learning_rate': 3.36802270577105e-05, 'epoch': 1.19}\n",
      "{'loss': 0.1702, 'grad_norm': 0.11849217116832733, 'learning_rate': 3.3561967833491016e-05, 'epoch': 1.2}\n",
      "{'loss': 0.1962, 'grad_norm': 0.1341102123260498, 'learning_rate': 3.3443708609271526e-05, 'epoch': 1.21}\n",
      "{'loss': 0.3049, 'grad_norm': 0.4718010723590851, 'learning_rate': 3.3325449385052035e-05, 'epoch': 1.21}\n",
      "{'loss': 0.0833, 'grad_norm': 0.1440596729516983, 'learning_rate': 3.3207190160832545e-05, 'epoch': 1.22}\n",
      "{'loss': 0.1631, 'grad_norm': 0.1109633818268776, 'learning_rate': 3.3088930936613054e-05, 'epoch': 1.22}\n",
      "{'loss': 0.0705, 'grad_norm': 7.614831924438477, 'learning_rate': 3.297067171239357e-05, 'epoch': 1.23}\n",
      "{'loss': 0.3119, 'grad_norm': 1.3580797910690308, 'learning_rate': 3.285241248817408e-05, 'epoch': 1.24}\n",
      "{'loss': 0.0061, 'grad_norm': 1.4242024421691895, 'learning_rate': 3.273415326395459e-05, 'epoch': 1.24}\n",
      "{'loss': 0.1492, 'grad_norm': 0.07107172161340714, 'learning_rate': 3.26158940397351e-05, 'epoch': 1.25}\n",
      "{'loss': 0.2674, 'grad_norm': 3.524441719055176, 'learning_rate': 3.249763481551561e-05, 'epoch': 1.26}\n",
      "{'loss': 0.4333, 'grad_norm': 0.6368311047554016, 'learning_rate': 3.2379375591296125e-05, 'epoch': 1.26}\n",
      "{'loss': 0.1519, 'grad_norm': 0.14344854652881622, 'learning_rate': 3.2261116367076634e-05, 'epoch': 1.27}\n",
      "{'loss': 0.2124, 'grad_norm': 0.3146699070930481, 'learning_rate': 3.2142857142857144e-05, 'epoch': 1.28}\n",
      "{'loss': 0.0829, 'grad_norm': 0.13998469710350037, 'learning_rate': 3.2024597918637653e-05, 'epoch': 1.28}\n",
      "{'loss': 0.2454, 'grad_norm': 5.6229567527771, 'learning_rate': 3.190633869441816e-05, 'epoch': 1.29}\n",
      "{'loss': 0.1964, 'grad_norm': 2.996847629547119, 'learning_rate': 3.178807947019868e-05, 'epoch': 1.29}\n",
      "{'loss': 0.4322, 'grad_norm': 0.09541181474924088, 'learning_rate': 3.166982024597919e-05, 'epoch': 1.3}\n",
      "{'loss': 0.1146, 'grad_norm': 0.30152827501296997, 'learning_rate': 3.15515610217597e-05, 'epoch': 1.31}\n",
      "{'loss': 0.1206, 'grad_norm': 0.04932152479887009, 'learning_rate': 3.143330179754021e-05, 'epoch': 1.31}\n",
      "{'loss': 0.2714, 'grad_norm': 0.07859323173761368, 'learning_rate': 3.131504257332072e-05, 'epoch': 1.32}\n",
      "{'loss': 0.1726, 'grad_norm': 17.160778045654297, 'learning_rate': 3.1196783349101234e-05, 'epoch': 1.33}\n",
      "{'loss': 0.3685, 'grad_norm': 45.72641372680664, 'learning_rate': 3.107852412488174e-05, 'epoch': 1.33}\n",
      "{'loss': 0.0701, 'grad_norm': 0.14844948053359985, 'learning_rate': 3.096026490066225e-05, 'epoch': 1.34}\n",
      "{'loss': 0.1237, 'grad_norm': 20.496511459350586, 'learning_rate': 3.084200567644276e-05, 'epoch': 1.35}\n",
      "{'loss': 0.2415, 'grad_norm': 0.1734161376953125, 'learning_rate': 3.072374645222327e-05, 'epoch': 1.35}\n",
      "{'loss': 0.243, 'grad_norm': 0.24092833697795868, 'learning_rate': 3.060548722800379e-05, 'epoch': 1.36}\n",
      "{'loss': 0.4288, 'grad_norm': 13.816656112670898, 'learning_rate': 3.0487228003784298e-05, 'epoch': 1.36}\n",
      "{'loss': 0.2004, 'grad_norm': 0.1582004427909851, 'learning_rate': 3.0368968779564804e-05, 'epoch': 1.37}\n",
      "{'loss': 0.3182, 'grad_norm': 9.029439926147461, 'learning_rate': 3.025070955534532e-05, 'epoch': 1.38}\n",
      "{'loss': 0.1148, 'grad_norm': 21.62827491760254, 'learning_rate': 3.0132450331125826e-05, 'epoch': 1.38}\n",
      "{'loss': 0.057, 'grad_norm': 0.054002150893211365, 'learning_rate': 3.0014191106906342e-05, 'epoch': 1.39}\n",
      "{'loss': 0.329, 'grad_norm': 7.501061916351318, 'learning_rate': 2.9895931882686852e-05, 'epoch': 1.4}\n",
      "{'loss': 0.1632, 'grad_norm': 0.07783360034227371, 'learning_rate': 2.9777672658467358e-05, 'epoch': 1.4}\n",
      "{'loss': 0.4018, 'grad_norm': 14.415358543395996, 'learning_rate': 2.9659413434247874e-05, 'epoch': 1.41}\n",
      "{'loss': 0.4346, 'grad_norm': 33.723846435546875, 'learning_rate': 2.954115421002838e-05, 'epoch': 1.41}\n",
      "{'loss': 0.1974, 'grad_norm': 0.30498188734054565, 'learning_rate': 2.9422894985808897e-05, 'epoch': 1.42}\n",
      "{'loss': 0.236, 'grad_norm': 0.0890740379691124, 'learning_rate': 2.9304635761589406e-05, 'epoch': 1.43}\n",
      "{'loss': 0.2324, 'grad_norm': 5.086669921875, 'learning_rate': 2.9186376537369913e-05, 'epoch': 1.43}\n",
      "{'loss': 0.0108, 'grad_norm': 0.402954638004303, 'learning_rate': 2.906811731315043e-05, 'epoch': 1.44}\n",
      "{'loss': 0.3151, 'grad_norm': 1.5899548530578613, 'learning_rate': 2.894985808893094e-05, 'epoch': 1.45}\n",
      "{'loss': 0.1414, 'grad_norm': 0.053251963108778, 'learning_rate': 2.883159886471145e-05, 'epoch': 1.45}\n",
      "{'loss': 0.3069, 'grad_norm': 3.4889092445373535, 'learning_rate': 2.871333964049196e-05, 'epoch': 1.46}\n",
      "{'loss': 0.1663, 'grad_norm': 0.27543309330940247, 'learning_rate': 2.8595080416272467e-05, 'epoch': 1.47}\n",
      "{'loss': 0.2582, 'grad_norm': 27.086156845092773, 'learning_rate': 2.8476821192052983e-05, 'epoch': 1.47}\n",
      "{'loss': 0.1247, 'grad_norm': 14.141910552978516, 'learning_rate': 2.8358561967833493e-05, 'epoch': 1.48}\n",
      "{'loss': 0.2206, 'grad_norm': 0.6822618246078491, 'learning_rate': 2.8240302743614006e-05, 'epoch': 1.48}\n",
      "{'loss': 0.1633, 'grad_norm': 0.05238872393965721, 'learning_rate': 2.8122043519394515e-05, 'epoch': 1.49}\n",
      "{'loss': 0.2615, 'grad_norm': 0.06898579746484756, 'learning_rate': 2.800378429517502e-05, 'epoch': 1.5}\n",
      "{'loss': 0.1725, 'grad_norm': 0.0706651508808136, 'learning_rate': 2.7885525070955538e-05, 'epoch': 1.5}\n",
      "{'loss': 0.3594, 'grad_norm': 0.3120101988315582, 'learning_rate': 2.7767265846736047e-05, 'epoch': 1.51}\n",
      "{'loss': 0.1349, 'grad_norm': 0.05747095122933388, 'learning_rate': 2.764900662251656e-05, 'epoch': 1.52}\n",
      "{'loss': 0.2109, 'grad_norm': 28.154499053955078, 'learning_rate': 2.753074739829707e-05, 'epoch': 1.52}\n",
      "{'loss': 0.2601, 'grad_norm': 0.6373862028121948, 'learning_rate': 2.7412488174077576e-05, 'epoch': 1.53}\n",
      "{'loss': 0.2057, 'grad_norm': 0.32091039419174194, 'learning_rate': 2.7294228949858092e-05, 'epoch': 1.54}\n",
      "{'loss': 0.2919, 'grad_norm': 0.14538775384426117, 'learning_rate': 2.71759697256386e-05, 'epoch': 1.54}\n",
      "{'loss': 0.1523, 'grad_norm': 124.51457977294922, 'learning_rate': 2.7057710501419114e-05, 'epoch': 1.55}\n",
      "{'loss': 0.228, 'grad_norm': 3.1631853580474854, 'learning_rate': 2.6939451277199624e-05, 'epoch': 1.55}\n",
      "{'loss': 0.2252, 'grad_norm': 0.41324687004089355, 'learning_rate': 2.6821192052980134e-05, 'epoch': 1.56}\n",
      "{'loss': 0.3122, 'grad_norm': 146.39614868164062, 'learning_rate': 2.6702932828760646e-05, 'epoch': 1.57}\n",
      "{'loss': 0.0166, 'grad_norm': 0.4646017849445343, 'learning_rate': 2.6584673604541156e-05, 'epoch': 1.57}\n",
      "{'loss': 0.2848, 'grad_norm': 3.0557992458343506, 'learning_rate': 2.646641438032167e-05, 'epoch': 1.58}\n",
      "{'loss': 0.3327, 'grad_norm': 26.293699264526367, 'learning_rate': 2.634815515610218e-05, 'epoch': 1.59}\n",
      "{'loss': 0.2088, 'grad_norm': 222.85281372070312, 'learning_rate': 2.6229895931882688e-05, 'epoch': 1.59}\n",
      "{'loss': 0.3743, 'grad_norm': 0.13164983689785004, 'learning_rate': 2.61116367076632e-05, 'epoch': 1.6}\n",
      "{'loss': 0.2277, 'grad_norm': 0.0754358321428299, 'learning_rate': 2.599337748344371e-05, 'epoch': 1.61}\n",
      "{'loss': 0.2867, 'grad_norm': 0.3790911138057709, 'learning_rate': 2.5875118259224216e-05, 'epoch': 1.61}\n",
      "{'loss': 0.0966, 'grad_norm': 40.85545349121094, 'learning_rate': 2.5756859035004733e-05, 'epoch': 1.62}\n",
      "{'loss': 0.2139, 'grad_norm': 0.07212311029434204, 'learning_rate': 2.5638599810785242e-05, 'epoch': 1.62}\n",
      "{'loss': 0.2795, 'grad_norm': 0.07301360368728638, 'learning_rate': 2.5520340586565755e-05, 'epoch': 1.63}\n",
      "{'loss': 0.1978, 'grad_norm': 4.087543487548828, 'learning_rate': 2.5402081362346265e-05, 'epoch': 1.64}\n",
      "{'loss': 0.2926, 'grad_norm': 0.27510493993759155, 'learning_rate': 2.5283822138126774e-05, 'epoch': 1.64}\n",
      "{'loss': 0.3689, 'grad_norm': 3.9861974716186523, 'learning_rate': 2.5165562913907287e-05, 'epoch': 1.65}\n",
      "{'loss': 0.1662, 'grad_norm': 0.14956052601337433, 'learning_rate': 2.5047303689687797e-05, 'epoch': 1.66}\n",
      "{'loss': 0.2922, 'grad_norm': 0.13291333615779877, 'learning_rate': 2.4929044465468306e-05, 'epoch': 1.66}\n",
      "{'loss': 0.2362, 'grad_norm': 0.19747838377952576, 'learning_rate': 2.481078524124882e-05, 'epoch': 1.67}\n",
      "{'loss': 0.2101, 'grad_norm': 0.5671420693397522, 'learning_rate': 2.469252601702933e-05, 'epoch': 1.68}\n",
      "{'loss': 0.2445, 'grad_norm': 0.11325053870677948, 'learning_rate': 2.457426679280984e-05, 'epoch': 1.68}\n",
      "{'loss': 0.2136, 'grad_norm': 1.4908255338668823, 'learning_rate': 2.445600756859035e-05, 'epoch': 1.69}\n",
      "{'loss': 0.152, 'grad_norm': 0.24493972957134247, 'learning_rate': 2.433774834437086e-05, 'epoch': 1.69}\n",
      "{'loss': 0.1921, 'grad_norm': 0.19425398111343384, 'learning_rate': 2.4219489120151374e-05, 'epoch': 1.7}\n",
      "{'loss': 0.1694, 'grad_norm': 21.674470901489258, 'learning_rate': 2.4101229895931883e-05, 'epoch': 1.71}\n",
      "{'loss': 0.3293, 'grad_norm': 0.21364523470401764, 'learning_rate': 2.3982970671712396e-05, 'epoch': 1.71}\n",
      "{'loss': 0.0955, 'grad_norm': 37.97148895263672, 'learning_rate': 2.3864711447492906e-05, 'epoch': 1.72}\n",
      "{'loss': 0.2945, 'grad_norm': 0.5784432888031006, 'learning_rate': 2.3746452223273415e-05, 'epoch': 1.73}\n",
      "{'loss': 0.1271, 'grad_norm': 0.19854360818862915, 'learning_rate': 2.3628192999053928e-05, 'epoch': 1.73}\n",
      "{'loss': 0.3524, 'grad_norm': 55.44873046875, 'learning_rate': 2.3509933774834437e-05, 'epoch': 1.74}\n",
      "{'loss': 0.1106, 'grad_norm': 0.9745075106620789, 'learning_rate': 2.339167455061495e-05, 'epoch': 1.74}\n",
      "{'loss': 0.2755, 'grad_norm': 10.959787368774414, 'learning_rate': 2.327341532639546e-05, 'epoch': 1.75}\n",
      "{'loss': 0.129, 'grad_norm': 7.406579971313477, 'learning_rate': 2.315515610217597e-05, 'epoch': 1.76}\n",
      "{'loss': 0.2185, 'grad_norm': 0.8468825817108154, 'learning_rate': 2.3036896877956482e-05, 'epoch': 1.76}\n",
      "{'loss': 0.0074, 'grad_norm': 0.08117733895778656, 'learning_rate': 2.2918637653736992e-05, 'epoch': 1.77}\n",
      "{'loss': 0.0051, 'grad_norm': 0.05407160520553589, 'learning_rate': 2.28003784295175e-05, 'epoch': 1.78}\n",
      "{'loss': 0.3948, 'grad_norm': 0.038746803998947144, 'learning_rate': 2.2682119205298014e-05, 'epoch': 1.78}\n",
      "{'loss': 0.1797, 'grad_norm': 0.10067156702280045, 'learning_rate': 2.2563859981078524e-05, 'epoch': 1.79}\n",
      "{'loss': 0.2557, 'grad_norm': 0.0727914571762085, 'learning_rate': 2.2445600756859037e-05, 'epoch': 1.8}\n",
      "{'loss': 0.2011, 'grad_norm': 0.10654480010271072, 'learning_rate': 2.232734153263955e-05, 'epoch': 1.8}\n",
      "{'loss': 0.1038, 'grad_norm': 0.1463477462530136, 'learning_rate': 2.2209082308420056e-05, 'epoch': 1.81}\n",
      "{'loss': 0.2887, 'grad_norm': 0.2888546586036682, 'learning_rate': 2.209082308420057e-05, 'epoch': 1.81}\n",
      "{'loss': 0.3241, 'grad_norm': 6.476219654083252, 'learning_rate': 2.1972563859981078e-05, 'epoch': 1.82}\n",
      "{'loss': 0.2004, 'grad_norm': 18.80051612854004, 'learning_rate': 2.185430463576159e-05, 'epoch': 1.83}\n",
      "{'loss': 0.1089, 'grad_norm': 0.8524462580680847, 'learning_rate': 2.1736045411542104e-05, 'epoch': 1.83}\n",
      "{'loss': 0.3766, 'grad_norm': 0.06894172728061676, 'learning_rate': 2.161778618732261e-05, 'epoch': 1.84}\n",
      "{'loss': 0.0399, 'grad_norm': 0.14315874874591827, 'learning_rate': 2.1499526963103123e-05, 'epoch': 1.85}\n",
      "{'loss': 0.3795, 'grad_norm': 0.20712138712406158, 'learning_rate': 2.1381267738883633e-05, 'epoch': 1.85}\n",
      "{'loss': 0.062, 'grad_norm': 0.2704293131828308, 'learning_rate': 2.1263008514664146e-05, 'epoch': 1.86}\n",
      "{'loss': 0.2633, 'grad_norm': 0.08913827687501907, 'learning_rate': 2.114474929044466e-05, 'epoch': 1.87}\n",
      "{'loss': 0.2088, 'grad_norm': 0.1812852919101715, 'learning_rate': 2.1026490066225165e-05, 'epoch': 1.87}\n",
      "{'loss': 0.1045, 'grad_norm': 9.205768585205078, 'learning_rate': 2.0908230842005678e-05, 'epoch': 1.88}\n",
      "{'loss': 0.1315, 'grad_norm': 0.09274786710739136, 'learning_rate': 2.0789971617786187e-05, 'epoch': 1.88}\n",
      "{'loss': 0.3476, 'grad_norm': 3.9058947563171387, 'learning_rate': 2.06717123935667e-05, 'epoch': 1.89}\n",
      "{'loss': 0.2399, 'grad_norm': 0.432234525680542, 'learning_rate': 2.055345316934721e-05, 'epoch': 1.9}\n",
      "{'loss': 0.0561, 'grad_norm': 0.100080206990242, 'learning_rate': 2.043519394512772e-05, 'epoch': 1.9}\n",
      "{'loss': 0.0607, 'grad_norm': 0.08545659482479095, 'learning_rate': 2.0316934720908232e-05, 'epoch': 1.91}\n",
      "{'loss': 0.0721, 'grad_norm': 0.09350166469812393, 'learning_rate': 2.0198675496688745e-05, 'epoch': 1.92}\n",
      "{'loss': 0.3231, 'grad_norm': 3.5592093467712402, 'learning_rate': 2.0080416272469254e-05, 'epoch': 1.92}\n",
      "{'loss': 0.1832, 'grad_norm': 0.09817133098840714, 'learning_rate': 1.9962157048249764e-05, 'epoch': 1.93}\n",
      "{'loss': 0.0087, 'grad_norm': 0.04279259219765663, 'learning_rate': 1.9843897824030273e-05, 'epoch': 1.94}\n",
      "{'loss': 0.4026, 'grad_norm': 0.05719403922557831, 'learning_rate': 1.9725638599810786e-05, 'epoch': 1.94}\n",
      "{'loss': 0.167, 'grad_norm': 0.11489871889352798, 'learning_rate': 1.96073793755913e-05, 'epoch': 1.95}\n",
      "{'loss': 0.224, 'grad_norm': 0.19840475916862488, 'learning_rate': 1.948912015137181e-05, 'epoch': 1.95}\n",
      "{'loss': 0.1987, 'grad_norm': 0.17731311917304993, 'learning_rate': 1.9370860927152318e-05, 'epoch': 1.96}\n",
      "{'loss': 0.0592, 'grad_norm': 0.13450492918491364, 'learning_rate': 1.9252601702932828e-05, 'epoch': 1.97}\n",
      "{'loss': 0.0843, 'grad_norm': 0.06461962312459946, 'learning_rate': 1.913434247871334e-05, 'epoch': 1.97}\n",
      "{'loss': 0.2223, 'grad_norm': 0.05574651062488556, 'learning_rate': 1.9016083254493854e-05, 'epoch': 1.98}\n",
      "{'loss': 0.3104, 'grad_norm': 8.767868995666504, 'learning_rate': 1.8897824030274363e-05, 'epoch': 1.99}\n",
      "{'loss': 0.2837, 'grad_norm': 0.08644674718379974, 'learning_rate': 1.8779564806054873e-05, 'epoch': 1.99}\n",
      "{'loss': 0.0694, 'grad_norm': 0.14569434523582458, 'learning_rate': 1.8661305581835382e-05, 'epoch': 2.0}\n"
     ]
    },
    {
     "data": {
      "application/vnd.jupyter.widget-view+json": {
       "model_id": "752e6b7433ad417b887065a67af56050",
       "version_major": 2,
       "version_minor": 0
      },
      "text/plain": [
       "  0%|          | 0/88 [00:00<?, ?it/s]"
      ]
     },
     "metadata": {},
     "output_type": "display_data"
    },
    {
     "name": "stdout",
     "output_type": "stream",
     "text": [
      "{'eval_loss': 0.17510956525802612, 'eval_runtime': 15.7439, 'eval_samples_per_second': 88.987, 'eval_steps_per_second': 5.589, 'epoch': 2.0}\n",
      "{'loss': 0.3638, 'grad_norm': 3.8635971546173096, 'learning_rate': 1.8543046357615895e-05, 'epoch': 2.01}\n",
      "{'loss': 0.0081, 'grad_norm': 4.047372341156006, 'learning_rate': 1.8424787133396408e-05, 'epoch': 2.01}\n",
      "{'loss': 0.1157, 'grad_norm': 0.18927793204784393, 'learning_rate': 1.8306527909176914e-05, 'epoch': 2.02}\n",
      "{'loss': 0.1767, 'grad_norm': 0.26437970995903015, 'learning_rate': 1.8188268684957427e-05, 'epoch': 2.02}\n",
      "{'loss': 0.2062, 'grad_norm': 3.483210563659668, 'learning_rate': 1.807000946073794e-05, 'epoch': 2.03}\n",
      "{'loss': 0.1049, 'grad_norm': 0.07677116245031357, 'learning_rate': 1.795175023651845e-05, 'epoch': 2.04}\n",
      "{'loss': 0.0889, 'grad_norm': 5.6795220375061035, 'learning_rate': 1.7833491012298962e-05, 'epoch': 2.04}\n",
      "{'loss': 0.0918, 'grad_norm': 0.1706928014755249, 'learning_rate': 1.771523178807947e-05, 'epoch': 2.05}\n",
      "{'loss': 0.2394, 'grad_norm': 0.05062820762395859, 'learning_rate': 1.759697256385998e-05, 'epoch': 2.06}\n",
      "{'loss': 0.0594, 'grad_norm': 0.05123559758067131, 'learning_rate': 1.7478713339640494e-05, 'epoch': 2.06}\n",
      "{'loss': 0.0743, 'grad_norm': 11.15004825592041, 'learning_rate': 1.7360454115421004e-05, 'epoch': 2.07}\n",
      "{'loss': 0.1536, 'grad_norm': 0.8848212957382202, 'learning_rate': 1.7242194891201517e-05, 'epoch': 2.07}\n",
      "{'loss': 0.1387, 'grad_norm': 0.05175260454416275, 'learning_rate': 1.7123935666982023e-05, 'epoch': 2.08}\n",
      "{'loss': 0.1983, 'grad_norm': 0.052129946649074554, 'learning_rate': 1.7005676442762536e-05, 'epoch': 2.09}\n",
      "{'loss': 0.1222, 'grad_norm': 0.05595887824892998, 'learning_rate': 1.688741721854305e-05, 'epoch': 2.09}\n",
      "{'loss': 0.2306, 'grad_norm': 0.48503950238227844, 'learning_rate': 1.676915799432356e-05, 'epoch': 2.1}\n",
      "{'loss': 0.1207, 'grad_norm': 0.1529175490140915, 'learning_rate': 1.665089877010407e-05, 'epoch': 2.11}\n",
      "{'loss': 0.1425, 'grad_norm': 0.05536864325404167, 'learning_rate': 1.6532639545884577e-05, 'epoch': 2.11}\n",
      "{'loss': 0.1587, 'grad_norm': 0.04343969374895096, 'learning_rate': 1.641438032166509e-05, 'epoch': 2.12}\n",
      "{'loss': 0.1673, 'grad_norm': 0.07391903549432755, 'learning_rate': 1.6296121097445603e-05, 'epoch': 2.13}\n",
      "{'loss': 0.0868, 'grad_norm': 5.019474029541016, 'learning_rate': 1.6177861873226113e-05, 'epoch': 2.13}\n",
      "{'loss': 0.0711, 'grad_norm': 0.07414280623197556, 'learning_rate': 1.6059602649006622e-05, 'epoch': 2.14}\n",
      "{'loss': 0.1303, 'grad_norm': 33.26226043701172, 'learning_rate': 1.5941343424787135e-05, 'epoch': 2.14}\n",
      "{'loss': 0.2473, 'grad_norm': 0.06225067377090454, 'learning_rate': 1.5823084200567645e-05, 'epoch': 2.15}\n",
      "{'loss': 0.0361, 'grad_norm': 0.377622127532959, 'learning_rate': 1.5704824976348158e-05, 'epoch': 2.16}\n",
      "{'loss': 0.1101, 'grad_norm': 0.04335879534482956, 'learning_rate': 1.5586565752128667e-05, 'epoch': 2.16}\n",
      "{'loss': 0.4071, 'grad_norm': 0.08325210958719254, 'learning_rate': 1.5468306527909177e-05, 'epoch': 2.17}\n",
      "{'loss': 0.0678, 'grad_norm': 0.06969458609819412, 'learning_rate': 1.535004730368969e-05, 'epoch': 2.18}\n",
      "{'loss': 0.1032, 'grad_norm': 237.5433349609375, 'learning_rate': 1.5231788079470199e-05, 'epoch': 2.18}\n",
      "{'loss': 0.1228, 'grad_norm': 0.044558942317962646, 'learning_rate': 1.511352885525071e-05, 'epoch': 2.19}\n",
      "{'loss': 0.2037, 'grad_norm': 0.07014728337526321, 'learning_rate': 1.4995269631031223e-05, 'epoch': 2.2}\n",
      "{'loss': 0.0995, 'grad_norm': 0.940555989742279, 'learning_rate': 1.4877010406811731e-05, 'epoch': 2.2}\n",
      "{'loss': 0.1383, 'grad_norm': 0.13578155636787415, 'learning_rate': 1.4758751182592242e-05, 'epoch': 2.21}\n",
      "{'loss': 0.0432, 'grad_norm': 0.029774460941553116, 'learning_rate': 1.4640491958372753e-05, 'epoch': 2.21}\n",
      "{'loss': 0.0058, 'grad_norm': 0.4338921904563904, 'learning_rate': 1.4522232734153265e-05, 'epoch': 2.22}\n",
      "{'loss': 0.1008, 'grad_norm': 0.05175255984067917, 'learning_rate': 1.4403973509933774e-05, 'epoch': 2.23}\n",
      "{'loss': 0.1255, 'grad_norm': 0.05575200170278549, 'learning_rate': 1.4285714285714285e-05, 'epoch': 2.23}\n",
      "{'loss': 0.215, 'grad_norm': 0.16443407535552979, 'learning_rate': 1.4167455061494797e-05, 'epoch': 2.24}\n",
      "{'loss': 0.2046, 'grad_norm': 0.26669585704803467, 'learning_rate': 1.4049195837275308e-05, 'epoch': 2.25}\n",
      "{'loss': 0.1704, 'grad_norm': 0.0529797337949276, 'learning_rate': 1.393093661305582e-05, 'epoch': 2.25}\n",
      "{'loss': 0.3274, 'grad_norm': 18.800989151000977, 'learning_rate': 1.3812677388836329e-05, 'epoch': 2.26}\n",
      "{'loss': 0.2474, 'grad_norm': 3.562382698059082, 'learning_rate': 1.369441816461684e-05, 'epoch': 2.27}\n",
      "{'loss': 0.1004, 'grad_norm': 0.056195855140686035, 'learning_rate': 1.3576158940397351e-05, 'epoch': 2.27}\n",
      "{'loss': 0.0586, 'grad_norm': 0.03904777392745018, 'learning_rate': 1.3457899716177862e-05, 'epoch': 2.28}\n",
      "{'loss': 0.0486, 'grad_norm': 0.05532490834593773, 'learning_rate': 1.3339640491958375e-05, 'epoch': 2.28}\n",
      "{'loss': 0.0852, 'grad_norm': 0.04155583679676056, 'learning_rate': 1.3221381267738883e-05, 'epoch': 2.29}\n",
      "{'loss': 0.227, 'grad_norm': 0.06225370615720749, 'learning_rate': 1.3103122043519394e-05, 'epoch': 2.3}\n",
      "{'loss': 0.2146, 'grad_norm': 0.03838266432285309, 'learning_rate': 1.2984862819299905e-05, 'epoch': 2.3}\n",
      "{'loss': 0.0729, 'grad_norm': 16.246578216552734, 'learning_rate': 1.2866603595080418e-05, 'epoch': 2.31}\n",
      "{'loss': 0.1079, 'grad_norm': 0.07420465350151062, 'learning_rate': 1.274834437086093e-05, 'epoch': 2.32}\n",
      "{'loss': 0.181, 'grad_norm': 4.178449630737305, 'learning_rate': 1.2630085146641437e-05, 'epoch': 2.32}\n",
      "{'loss': 0.0895, 'grad_norm': 0.07976893335580826, 'learning_rate': 1.2511825922421949e-05, 'epoch': 2.33}\n",
      "{'loss': 0.1366, 'grad_norm': 0.0733223631978035, 'learning_rate': 1.239356669820246e-05, 'epoch': 2.34}\n",
      "{'loss': 0.1237, 'grad_norm': 0.07631564885377884, 'learning_rate': 1.2275307473982971e-05, 'epoch': 2.34}\n",
      "{'loss': 0.0057, 'grad_norm': 8.742725372314453, 'learning_rate': 1.2157048249763482e-05, 'epoch': 2.35}\n",
      "{'loss': 0.0682, 'grad_norm': 0.027302797883749008, 'learning_rate': 1.2038789025543994e-05, 'epoch': 2.35}\n",
      "{'loss': 0.171, 'grad_norm': 0.046526603400707245, 'learning_rate': 1.1920529801324503e-05, 'epoch': 2.36}\n",
      "{'loss': 0.2051, 'grad_norm': 0.11298348009586334, 'learning_rate': 1.1802270577105016e-05, 'epoch': 2.37}\n",
      "{'loss': 0.0795, 'grad_norm': 0.031628817319869995, 'learning_rate': 1.1684011352885525e-05, 'epoch': 2.37}\n",
      "{'loss': 0.0935, 'grad_norm': 0.4636959433555603, 'learning_rate': 1.1565752128666037e-05, 'epoch': 2.38}\n",
      "{'loss': 0.3626, 'grad_norm': 0.04889070242643356, 'learning_rate': 1.1447492904446546e-05, 'epoch': 2.39}\n",
      "{'loss': 0.0978, 'grad_norm': 0.4641691744327545, 'learning_rate': 1.1329233680227057e-05, 'epoch': 2.39}\n",
      "{'loss': 0.0142, 'grad_norm': 0.0826728567481041, 'learning_rate': 1.121097445600757e-05, 'epoch': 2.4}\n",
      "{'loss': 0.0535, 'grad_norm': 0.060404762625694275, 'learning_rate': 1.109271523178808e-05, 'epoch': 2.4}\n",
      "{'loss': 0.3274, 'grad_norm': 30.4537410736084, 'learning_rate': 1.0974456007568591e-05, 'epoch': 2.41}\n",
      "{'loss': 0.1898, 'grad_norm': 14.109764099121094, 'learning_rate': 1.08561967833491e-05, 'epoch': 2.42}\n",
      "{'loss': 0.1563, 'grad_norm': 0.3790128529071808, 'learning_rate': 1.0737937559129614e-05, 'epoch': 2.42}\n",
      "{'loss': 0.2215, 'grad_norm': 0.162572979927063, 'learning_rate': 1.0619678334910123e-05, 'epoch': 2.43}\n",
      "{'loss': 0.2953, 'grad_norm': 32.469356536865234, 'learning_rate': 1.0501419110690634e-05, 'epoch': 2.44}\n",
      "{'loss': 0.2206, 'grad_norm': 0.13818825781345367, 'learning_rate': 1.0383159886471145e-05, 'epoch': 2.44}\n",
      "{'loss': 0.0805, 'grad_norm': 0.5166420340538025, 'learning_rate': 1.0264900662251655e-05, 'epoch': 2.45}\n",
      "{'loss': 0.4672, 'grad_norm': 8.54854679107666, 'learning_rate': 1.0146641438032168e-05, 'epoch': 2.46}\n",
      "{'loss': 0.155, 'grad_norm': 0.16899634897708893, 'learning_rate': 1.0028382213812677e-05, 'epoch': 2.46}\n",
      "{'loss': 0.1281, 'grad_norm': 0.08137401938438416, 'learning_rate': 9.910122989593189e-06, 'epoch': 2.47}\n",
      "{'loss': 0.0074, 'grad_norm': 3.84678316116333, 'learning_rate': 9.7918637653737e-06, 'epoch': 2.47}\n",
      "{'loss': 0.1631, 'grad_norm': 0.08911170065402985, 'learning_rate': 9.673604541154211e-06, 'epoch': 2.48}\n",
      "{'loss': 0.0026, 'grad_norm': 0.0765020027756691, 'learning_rate': 9.555345316934722e-06, 'epoch': 2.49}\n",
      "{'loss': 0.2403, 'grad_norm': 0.08521711826324463, 'learning_rate': 9.437086092715232e-06, 'epoch': 2.49}\n",
      "{'loss': 0.1566, 'grad_norm': 0.05463414639234543, 'learning_rate': 9.318826868495743e-06, 'epoch': 2.5}\n",
      "{'loss': 0.0833, 'grad_norm': 0.0407126359641552, 'learning_rate': 9.200567644276253e-06, 'epoch': 2.51}\n",
      "{'loss': 0.1547, 'grad_norm': 5.702109336853027, 'learning_rate': 9.082308420056766e-06, 'epoch': 2.51}\n",
      "{'loss': 0.0883, 'grad_norm': 0.38123637437820435, 'learning_rate': 8.964049195837277e-06, 'epoch': 2.52}\n",
      "{'loss': 0.0684, 'grad_norm': 0.08946654945611954, 'learning_rate': 8.845789971617786e-06, 'epoch': 2.53}\n",
      "{'loss': 0.2074, 'grad_norm': 0.1029965803027153, 'learning_rate': 8.727530747398297e-06, 'epoch': 2.53}\n",
      "{'loss': 0.0837, 'grad_norm': 0.08069464564323425, 'learning_rate': 8.609271523178809e-06, 'epoch': 2.54}\n",
      "{'loss': 0.1178, 'grad_norm': 0.055551089346408844, 'learning_rate': 8.49101229895932e-06, 'epoch': 2.54}\n",
      "{'loss': 0.1793, 'grad_norm': 0.09750279039144516, 'learning_rate': 8.37275307473983e-06, 'epoch': 2.55}\n",
      "{'loss': 0.1146, 'grad_norm': 0.04612679034471512, 'learning_rate': 8.25449385052034e-06, 'epoch': 2.56}\n",
      "{'loss': 0.1675, 'grad_norm': 42.407222747802734, 'learning_rate': 8.136234626300852e-06, 'epoch': 2.56}\n",
      "{'loss': 0.0968, 'grad_norm': 0.04426003620028496, 'learning_rate': 8.017975402081363e-06, 'epoch': 2.57}\n",
      "{'loss': 0.0721, 'grad_norm': 0.08051373064517975, 'learning_rate': 7.899716177861874e-06, 'epoch': 2.58}\n",
      "{'loss': 0.1674, 'grad_norm': 6.517796516418457, 'learning_rate': 7.781456953642384e-06, 'epoch': 2.58}\n",
      "{'loss': 0.2993, 'grad_norm': 3.5253713130950928, 'learning_rate': 7.663197729422895e-06, 'epoch': 2.59}\n",
      "{'loss': 0.0033, 'grad_norm': 0.20479004085063934, 'learning_rate': 7.544938505203407e-06, 'epoch': 2.6}\n",
      "{'loss': 0.0034, 'grad_norm': 0.18080349266529083, 'learning_rate': 7.426679280983917e-06, 'epoch': 2.6}\n",
      "{'loss': 0.0975, 'grad_norm': 4.364580154418945, 'learning_rate': 7.308420056764429e-06, 'epoch': 2.61}\n",
      "{'loss': 0.229, 'grad_norm': 24.517501831054688, 'learning_rate': 7.190160832544938e-06, 'epoch': 2.61}\n",
      "{'loss': 0.2863, 'grad_norm': 0.04852479323744774, 'learning_rate': 7.07190160832545e-06, 'epoch': 2.62}\n",
      "{'loss': 0.0048, 'grad_norm': 0.16919897496700287, 'learning_rate': 6.95364238410596e-06, 'epoch': 2.63}\n",
      "{'loss': 0.0672, 'grad_norm': 0.17658628523349762, 'learning_rate': 6.835383159886472e-06, 'epoch': 2.63}\n",
      "{'loss': 0.0701, 'grad_norm': 12.128069877624512, 'learning_rate': 6.717123935666983e-06, 'epoch': 2.64}\n",
      "{'loss': 0.0886, 'grad_norm': 0.06413938105106354, 'learning_rate': 6.598864711447493e-06, 'epoch': 2.65}\n",
      "{'loss': 0.1475, 'grad_norm': 0.03643933683633804, 'learning_rate': 6.480605487228005e-06, 'epoch': 2.65}\n",
      "{'loss': 0.1062, 'grad_norm': 128.7056427001953, 'learning_rate': 6.362346263008514e-06, 'epoch': 2.66}\n",
      "{'loss': 0.1303, 'grad_norm': 49.566864013671875, 'learning_rate': 6.244087038789026e-06, 'epoch': 2.66}\n",
      "{'loss': 0.1331, 'grad_norm': 0.09908009320497513, 'learning_rate': 6.125827814569537e-06, 'epoch': 2.67}\n",
      "{'loss': 0.0835, 'grad_norm': 9.188803672790527, 'learning_rate': 6.007568590350048e-06, 'epoch': 2.68}\n",
      "{'loss': 0.1652, 'grad_norm': 20.414947509765625, 'learning_rate': 5.889309366130558e-06, 'epoch': 2.68}\n",
      "{'loss': 0.094, 'grad_norm': 6.332673072814941, 'learning_rate': 5.7710501419110695e-06, 'epoch': 2.69}\n",
      "{'loss': 0.0631, 'grad_norm': 0.06109204515814781, 'learning_rate': 5.652790917691581e-06, 'epoch': 2.7}\n",
      "{'loss': 0.1307, 'grad_norm': 0.07956060022115707, 'learning_rate': 5.534531693472091e-06, 'epoch': 2.7}\n",
      "{'loss': 0.0885, 'grad_norm': 0.027159079909324646, 'learning_rate': 5.416272469252602e-06, 'epoch': 2.71}\n",
      "{'loss': 0.2814, 'grad_norm': 0.07350777834653854, 'learning_rate': 5.298013245033113e-06, 'epoch': 2.72}\n",
      "{'loss': 0.0022, 'grad_norm': 0.048149507492780685, 'learning_rate': 5.179754020813624e-06, 'epoch': 2.72}\n",
      "{'loss': 0.0024, 'grad_norm': 0.04699801281094551, 'learning_rate': 5.061494796594134e-06, 'epoch': 2.73}\n",
      "{'loss': 0.1854, 'grad_norm': 0.052319400012493134, 'learning_rate': 4.9432355723746455e-06, 'epoch': 2.73}\n",
      "{'loss': 0.0821, 'grad_norm': 0.024974001571536064, 'learning_rate': 4.824976348155157e-06, 'epoch': 2.74}\n",
      "{'loss': 0.1708, 'grad_norm': 82.73716735839844, 'learning_rate': 4.706717123935667e-06, 'epoch': 2.75}\n",
      "{'loss': 0.0805, 'grad_norm': 11.820023536682129, 'learning_rate': 4.588457899716178e-06, 'epoch': 2.75}\n",
      "{'loss': 0.0865, 'grad_norm': 0.045512229204177856, 'learning_rate': 4.470198675496689e-06, 'epoch': 2.76}\n",
      "{'loss': 0.2338, 'grad_norm': 0.10788164287805557, 'learning_rate': 4.3519394512772e-06, 'epoch': 2.77}\n",
      "{'loss': 0.116, 'grad_norm': 73.28616333007812, 'learning_rate': 4.23368022705771e-06, 'epoch': 2.77}\n",
      "{'loss': 0.0526, 'grad_norm': 0.05961484834551811, 'learning_rate': 4.115421002838222e-06, 'epoch': 2.78}\n",
      "{'loss': 0.1159, 'grad_norm': 0.1265409290790558, 'learning_rate': 3.997161778618733e-06, 'epoch': 2.79}\n",
      "{'loss': 0.0036, 'grad_norm': 0.03963702544569969, 'learning_rate': 3.878902554399243e-06, 'epoch': 2.79}\n",
      "{'loss': 0.1322, 'grad_norm': 0.02436855621635914, 'learning_rate': 3.7606433301797543e-06, 'epoch': 2.8}\n",
      "{'loss': 0.0024, 'grad_norm': 0.01797473430633545, 'learning_rate': 3.642384105960265e-06, 'epoch': 2.8}\n",
      "{'loss': 0.018, 'grad_norm': 0.2326636165380478, 'learning_rate': 3.524124881740776e-06, 'epoch': 2.81}\n",
      "{'loss': 0.1518, 'grad_norm': 56.322242736816406, 'learning_rate': 3.405865657521287e-06, 'epoch': 2.82}\n",
      "{'loss': 0.0027, 'grad_norm': 0.25126972794532776, 'learning_rate': 3.287606433301798e-06, 'epoch': 2.82}\n",
      "{'loss': 0.0987, 'grad_norm': 24.805152893066406, 'learning_rate': 3.1693472090823087e-06, 'epoch': 2.83}\n",
      "{'loss': 0.0904, 'grad_norm': 0.08623310178518295, 'learning_rate': 3.0510879848628194e-06, 'epoch': 2.84}\n",
      "{'loss': 0.1234, 'grad_norm': 0.6103480458259583, 'learning_rate': 2.9328287606433302e-06, 'epoch': 2.84}\n",
      "{'loss': 0.2282, 'grad_norm': 0.10202013701200485, 'learning_rate': 2.8145695364238415e-06, 'epoch': 2.85}\n",
      "{'loss': 0.0625, 'grad_norm': 0.014969944953918457, 'learning_rate': 2.6963103122043523e-06, 'epoch': 2.86}\n",
      "{'loss': 0.0371, 'grad_norm': 0.029987847432494164, 'learning_rate': 2.578051087984863e-06, 'epoch': 2.86}\n",
      "{'loss': 0.0045, 'grad_norm': 0.04027937352657318, 'learning_rate': 2.459791863765374e-06, 'epoch': 2.87}\n",
      "{'loss': 0.1751, 'grad_norm': 0.017945032566785812, 'learning_rate': 2.3415326395458846e-06, 'epoch': 2.87}\n",
      "{'loss': 0.068, 'grad_norm': 0.2630182206630707, 'learning_rate': 2.2232734153263954e-06, 'epoch': 2.88}\n",
      "{'loss': 0.1086, 'grad_norm': 0.06590717285871506, 'learning_rate': 2.1050141911069062e-06, 'epoch': 2.89}\n",
      "{'loss': 0.0016, 'grad_norm': 0.028849761933088303, 'learning_rate': 1.9867549668874175e-06, 'epoch': 2.89}\n",
      "{'loss': 0.1221, 'grad_norm': 0.05776127055287361, 'learning_rate': 1.8684957426679282e-06, 'epoch': 2.9}\n",
      "{'loss': 0.0414, 'grad_norm': 0.023015975952148438, 'learning_rate': 1.7502365184484388e-06, 'epoch': 2.91}\n",
      "{'loss': 0.0774, 'grad_norm': 21.050556182861328, 'learning_rate': 1.63197729422895e-06, 'epoch': 2.91}\n",
      "{'loss': 0.1806, 'grad_norm': 13.438567161560059, 'learning_rate': 1.5137180700094608e-06, 'epoch': 2.92}\n",
      "{'loss': 0.1153, 'grad_norm': 0.055538471788167953, 'learning_rate': 1.3954588457899719e-06, 'epoch': 2.93}\n",
      "{'loss': 0.0648, 'grad_norm': 0.15726394951343536, 'learning_rate': 1.2771996215704824e-06, 'epoch': 2.93}\n",
      "{'loss': 0.0893, 'grad_norm': 0.049554307013750076, 'learning_rate': 1.1589403973509934e-06, 'epoch': 2.94}\n",
      "{'loss': 0.111, 'grad_norm': 0.7445524334907532, 'learning_rate': 1.0406811731315045e-06, 'epoch': 2.94}\n",
      "{'loss': 0.1226, 'grad_norm': 0.061251066625118256, 'learning_rate': 9.224219489120151e-07, 'epoch': 2.95}\n",
      "{'loss': 0.0382, 'grad_norm': 0.12903857231140137, 'learning_rate': 8.041627246925261e-07, 'epoch': 2.96}\n",
      "{'loss': 0.0942, 'grad_norm': 0.0532059408724308, 'learning_rate': 6.859035004730369e-07, 'epoch': 2.96}\n",
      "{'loss': 0.0659, 'grad_norm': 0.0264570489525795, 'learning_rate': 5.676442762535478e-07, 'epoch': 2.97}\n",
      "{'loss': 0.1815, 'grad_norm': 0.037622347474098206, 'learning_rate': 4.4938505203405864e-07, 'epoch': 2.98}\n",
      "{'loss': 0.067, 'grad_norm': 0.03104916587471962, 'learning_rate': 3.3112582781456954e-07, 'epoch': 2.98}\n",
      "{'loss': 0.1071, 'grad_norm': 0.2379763424396515, 'learning_rate': 2.1286660359508044e-07, 'epoch': 2.99}\n",
      "{'loss': 0.2261, 'grad_norm': 0.1446688026189804, 'learning_rate': 9.46073793755913e-08, 'epoch': 2.99}\n"
     ]
    },
    {
     "data": {
      "application/vnd.jupyter.widget-view+json": {
       "model_id": "9257072a7e934ea3b9f1094d6fe02a2c",
       "version_major": 2,
       "version_minor": 0
      },
      "text/plain": [
       "  0%|          | 0/88 [00:00<?, ?it/s]"
      ]
     },
     "metadata": {},
     "output_type": "display_data"
    },
    {
     "name": "stdout",
     "output_type": "stream",
     "text": [
      "{'eval_loss': 0.1433848887681961, 'eval_runtime': 16.8721, 'eval_samples_per_second': 83.037, 'eval_steps_per_second': 5.216, 'epoch': 3.0}\n",
      "{'train_runtime': 2113.6269, 'train_samples_per_second': 17.89, 'train_steps_per_second': 2.237, 'train_loss': 0.28229128684952554, 'epoch': 3.0}\n"
     ]
    },
    {
     "data": {
      "text/plain": [
       "TrainOutput(global_step=4728, training_loss=0.28229128684952554, metrics={'train_runtime': 2113.6269, 'train_samples_per_second': 17.89, 'train_steps_per_second': 2.237, 'total_flos': 1923702364378872.0, 'train_loss': 0.28229128684952554, 'epoch': 3.0})"
      ]
     },
     "execution_count": 18,
     "metadata": {},
     "output_type": "execute_result"
    }
   ],
   "source": [
    "# Initialize Trainer\n",
    "model = RobertaForSequenceClassification.from_pretrained('roberta-base', num_labels=len(label_dict))\n",
    "trainer = Trainer(\n",
    "    model=model,                         # the instantiated 🤗 Transformers model to be trained\n",
    "    args=training_args,                  # training arguments, defined above\n",
    "    train_dataset=train_dataset,         # training dataset\n",
    "    eval_dataset=val_dataset             # evaluation dataset\n",
    ")\n",
    "\n",
    "# Train the model\n",
    "trainer.train()"
   ]
  },
  {
   "cell_type": "markdown",
   "metadata": {},
   "source": [
    "### 3. Evaluation\n",
    "\n",
    "After training, we evaluate via the validation set to see how well it performs."
   ]
  },
  {
   "cell_type": "code",
   "execution_count": 19,
   "metadata": {},
   "outputs": [
    {
     "data": {
      "application/vnd.jupyter.widget-view+json": {
       "model_id": "cf770e6825664fb78a0d691797081983",
       "version_major": 2,
       "version_minor": 0
      },
      "text/plain": [
       "  0%|          | 0/88 [00:00<?, ?it/s]"
      ]
     },
     "metadata": {},
     "output_type": "display_data"
    },
    {
     "name": "stdout",
     "output_type": "stream",
     "text": [
      "{'eval_loss': 0.1433848887681961, 'eval_runtime': 13.7504, 'eval_samples_per_second': 101.888, 'eval_steps_per_second': 6.4, 'epoch': 3.0}\n"
     ]
    }
   ],
   "source": [
    "results = trainer.evaluate()\n",
    "print(results)"
   ]
  },
  {
   "cell_type": "code",
   "execution_count": 24,
   "metadata": {},
   "outputs": [
    {
     "name": "stdout",
     "output_type": "stream",
     "text": [
      "0.8566151112318039\n"
     ]
    }
   ],
   "source": [
    "# Convert eval_loss to accuracy\n",
    "accuracy = 1 - results['eval_loss']\n",
    "print(accuracy)"
   ]
  }
 ],
 "metadata": {
  "kernelspec": {
   "display_name": ".venv",
   "language": "python",
   "name": "python3"
  },
  "language_info": {
   "codemirror_mode": {
    "name": "ipython",
    "version": 3
   },
   "file_extension": ".py",
   "mimetype": "text/x-python",
   "name": "python",
   "nbconvert_exporter": "python",
   "pygments_lexer": "ipython3",
   "version": "3.11.6"
  }
 },
 "nbformat": 4,
 "nbformat_minor": 2
}
